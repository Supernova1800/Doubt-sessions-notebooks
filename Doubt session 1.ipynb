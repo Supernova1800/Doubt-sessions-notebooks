{
 "cells": [
  {
   "cell_type": "code",
   "execution_count": null,
   "id": "67b8d830",
   "metadata": {},
   "outputs": [],
   "source": [
    "#Agenda\n",
    "\n",
    "#1.Taking input as list\n",
    "\n",
    "#2.f string\n",
    "\n",
    "#3.sorted\n",
    "\n",
    "#p4.roblems related to list\n",
    "\n",
    "#https://www.hackerrank.com/challenges/find-second-maximum-number-in-a-list/problem?isFullScreen=true\n",
    "\n",
    "#https://www.hackerrank.com/challenges/nested-list/problem?isFullScreen=true&h_r=next-challenge&h_v=zen\n",
    "\n",
    "#homework1   https://www.hackerrank.com/challenges/finding-the-percentage/problem?isFullScreen=true\n",
    "\n",
    "#Homework2   adding two lists by joining all the numbers in the list\n",
    "\n",
    "#finding median of two sorted lists.\n",
    "\n",
    "#https://www.geeksforgeeks.org/python-list-exercise/\n",
    "\n",
    "#5.__repr__()\n",
    "\n",
    "#number of additions to Make Parentheses Valid\n",
    "#for part 2 for abv que is also homework"
   ]
  },
  {
   "cell_type": "code",
   "execution_count": null,
   "id": "37442ea5",
   "metadata": {
    "scrolled": true
   },
   "outputs": [],
   "source": [
    "#1.Taking input as list\n",
    "#method 1\n",
    "n = int(input(\"how many integer elemnts you want in list\"))\n",
    "lst = []\n",
    "for i in range(n):\n",
    "    x = int(input())\n",
    "    lst.append(x)\n",
    "print(lst)"
   ]
  },
  {
   "cell_type": "code",
   "execution_count": null,
   "id": "2ee38bf0",
   "metadata": {},
   "outputs": [],
   "source": [
    "#string \n",
    "x = input()\n",
    "print(x)"
   ]
  },
  {
   "cell_type": "code",
   "execution_count": 47,
   "id": "3e9b5658",
   "metadata": {
    "scrolled": false
   },
   "outputs": [
    {
     "name": "stdout",
     "output_type": "stream",
     "text": [
      "1 2 3 4\n",
      "[1, 2, 3, 4]\n"
     ]
    }
   ],
   "source": [
    "#method 2 for taking\n",
    "lst1 = list(map(int,input().split(\" \")))\n",
    "print(lst1)"
   ]
  },
  {
   "cell_type": "code",
   "execution_count": null,
   "id": "a463ab0e",
   "metadata": {
    "scrolled": true
   },
   "outputs": [],
   "source": [
    "#2.f string\n",
    "#basic syntax for f string is f\"(srting)\"\n",
    "a = 10\n",
    "l = [1,2,3,4]\n",
    "print(f\"the value of a is {l}\")"
   ]
  },
  {
   "cell_type": "code",
   "execution_count": null,
   "id": "17fd3269",
   "metadata": {
    "scrolled": true
   },
   "outputs": [],
   "source": [
    "#20.333651412 print the value in 20.33 {f:.2f}\n",
    "#20 they want you to print 20.00\n",
    "f = 20\n",
    "print(f\"the value of f is {f:.3f}\")\n",
    "\n",
    "#round()\n",
    "\n",
    "print(round(f,2))"
   ]
  },
  {
   "cell_type": "code",
   "execution_count": null,
   "id": "e4a968b7",
   "metadata": {
    "scrolled": true
   },
   "outputs": [],
   "source": [
    "ls = [1,3,4,5,6,47,1]\n",
    "#ls.sort()\n",
    "ls"
   ]
  },
  {
   "cell_type": "code",
   "execution_count": null,
   "id": "a18f1a71",
   "metadata": {
    "scrolled": false
   },
   "outputs": [],
   "source": [
    "#Hint to the problem in assingment\n",
    "sorted(ls,reverse = True,key=lambda x:expression)"
   ]
  },
  {
   "cell_type": "code",
   "execution_count": null,
   "id": "b9f3c2e4",
   "metadata": {},
   "outputs": [],
   "source": [
    "m = [2,3,6,6,5]\n",
    "\n",
    "#winner score is 6\n",
    "#what is runner score\n",
    "\n",
    "#sort it and you will print 2 last element\n",
    "\n",
    "m = list(set(m))\n",
    "m = sorted(m,reverse = True)\n",
    "\n",
    "m[1]"
   ]
  },
  {
   "cell_type": "code",
   "execution_count": null,
   "id": "9dd1d7e0",
   "metadata": {},
   "outputs": [],
   "source": [
    "students = []\n",
    "scores = []\n",
    "for _ in range(int(input())):\n",
    "    name = input()\n",
    "    score = float(input())\n",
    "    arr = [name, score]\n",
    "    students.append(arr)\n",
    "    scores.append(score)\n",
    "b=sorted(list(set(scores)))[1]\n",
    "for a,c in sorted(students):\n",
    "    if c==b:\n",
    "        print(a)\n",
    "#input\n",
    "'''\n",
    "5\n",
    "Harry\n",
    "37.21\n",
    "Berry\n",
    "37.21\n",
    "Tina\n",
    "37.2\n",
    "Akriti\n",
    "41\n",
    "Harsh\n",
    "39\n",
    "'''"
   ]
  },
  {
   "cell_type": "code",
   "execution_count": 3,
   "id": "1db31fbb",
   "metadata": {},
   "outputs": [
    {
     "name": "stdout",
     "output_type": "stream",
     "text": [
      "1\n",
      "2\n"
     ]
    }
   ],
   "source": [
    "l =[[1,2],[2,3]]\n",
    "for i,j in l:\n",
    "    print(i)"
   ]
  },
  {
   "cell_type": "code",
   "execution_count": 4,
   "id": "51426e66",
   "metadata": {},
   "outputs": [],
   "source": [
    "#number of additions to Make Parentheses Valid"
   ]
  },
  {
   "cell_type": "code",
   "execution_count": 17,
   "id": "b9e96d9f",
   "metadata": {
    "scrolled": true
   },
   "outputs": [
    {
     "name": "stdout",
     "output_type": "stream",
     "text": [
      "2\n"
     ]
    }
   ],
   "source": [
    "# ( 4 times\n",
    "# ) 1 time \n",
    "# no of time ( appeared  - number of time  ) appeared\n",
    "\n",
    "# () complete pair  \n",
    "#(((  how many ) brackets needed to complte the pairs in all\n",
    "\n",
    "# c for \"(\" this character count\n",
    "# c1 for \")\" this character count.\n",
    "\n",
    "s = \"(((())\"\n",
    "\n",
    "c,c1 =0,0\n",
    "for i in s:\n",
    "    if i == \"(\":\n",
    "        c+=1\n",
    "    else:\n",
    "        c1+=1\n",
    "print(abs(c-c1))"
   ]
  },
  {
   "cell_type": "code",
   "execution_count": null,
   "id": "8b8ce9ef",
   "metadata": {},
   "outputs": [],
   "source": [
    "#amazon question\n",
    "s = \"(()[}})(()]]]}})\"\n",
    "\n",
    "() is a pair\n",
    "[] is a pair\n",
    "{} is a pair\n",
    "\n",
    "#home work you want to find how many more charcter neede to make the string as a complete pair"
   ]
  },
  {
   "cell_type": "code",
   "execution_count": null,
   "id": "3a9c795c",
   "metadata": {},
   "outputs": [],
   "source": [
    "#oops\n",
    "\n",
    "# just like this __init__() __repr__() is also a built in function repr is representation"
   ]
  },
  {
   "cell_type": "code",
   "execution_count": 31,
   "id": "45240449",
   "metadata": {},
   "outputs": [],
   "source": [
    "class Dog:\n",
    "    #class attribute\n",
    "    no_of_legs = 4\n",
    "    \n",
    "    def __init__(self,breed):\n",
    "        self.breed = breed"
   ]
  },
  {
   "cell_type": "code",
   "execution_count": 32,
   "id": "da15e39e",
   "metadata": {
    "scrolled": false
   },
   "outputs": [
    {
     "name": "stdout",
     "output_type": "stream",
     "text": [
      "<__main__.Dog object at 0x00000207B7E40E20>\n"
     ]
    }
   ],
   "source": [
    "husky = Dog(\"husky\")\n",
    "print(husky)"
   ]
  },
  {
   "cell_type": "code",
   "execution_count": 33,
   "id": "c16c75cc",
   "metadata": {},
   "outputs": [
    {
     "data": {
      "text/plain": [
       "<__main__.Dog at 0x207b7e40970>"
      ]
     },
     "execution_count": 33,
     "metadata": {},
     "output_type": "execute_result"
    }
   ],
   "source": [
    "labrodor = Dog(\"labrodor\")\n",
    "labrodor"
   ]
  },
  {
   "cell_type": "code",
   "execution_count": 39,
   "id": "8d646452",
   "metadata": {},
   "outputs": [],
   "source": [
    "class Dog:\n",
    "    #class attribute\n",
    "    no_of_legs = 4\n",
    "    \n",
    "    def __init__(self,breed):\n",
    "        self.breed = breed\n",
    "        \n",
    "    def __repr__(self):\n",
    "        return (f\"this object belong to dog class\")"
   ]
  },
  {
   "cell_type": "code",
   "execution_count": 40,
   "id": "1c9d5d5d",
   "metadata": {},
   "outputs": [
    {
     "name": "stdout",
     "output_type": "stream",
     "text": [
      "this object belong to dog class\n"
     ]
    }
   ],
   "source": [
    "husky1 = Dog(\"husky\")\n",
    "print(husky1)"
   ]
  },
  {
   "cell_type": "code",
   "execution_count": 44,
   "id": "5eec8850",
   "metadata": {},
   "outputs": [],
   "source": [
    "class Dog:\n",
    "    #class attribute\n",
    "    no_of_legs = 4\n",
    "    \n",
    "    def __init__(self,breed):\n",
    "        self.breed = breed\n",
    "        \n",
    "    def __repr__(self):\n",
    "        return (f\"The breed of the dog is {self.breed} and it has {Dog.no_of_legs} legs\")"
   ]
  },
  {
   "cell_type": "code",
   "execution_count": 45,
   "id": "42bf0797",
   "metadata": {
    "scrolled": true
   },
   "outputs": [
    {
     "name": "stdout",
     "output_type": "stream",
     "text": [
      "The breed of the dog is husky and it has 4 legs\n"
     ]
    }
   ],
   "source": [
    "husky2 = Dog(\"husky\")\n",
    "print(husky2)"
   ]
  },
  {
   "cell_type": "code",
   "execution_count": 46,
   "id": "0c237c23",
   "metadata": {},
   "outputs": [],
   "source": [
    "#adding two lists by joining all the numbers in the list"
   ]
  },
  {
   "cell_type": "code",
   "execution_count": null,
   "id": "9a55800b",
   "metadata": {},
   "outputs": [],
   "source": [
    "#home work 2\n",
    "l1 = [1,2,3]\n",
    "l2 = [2,2,3]\n",
    "\n",
    "s1 = 123\n",
    "s2 = 223\n",
    "#add s1 and s2 and convert it into a list\n",
    "#123+123 \n",
    "#246\n",
    "# output = [2,4,6]"
   ]
  },
  {
   "cell_type": "code",
   "execution_count": 59,
   "id": "2218a6ed",
   "metadata": {
    "scrolled": false
   },
   "outputs": [
    {
     "ename": "TypeError",
     "evalue": "list indices must be integers or slices, not float",
     "output_type": "error",
     "traceback": [
      "\u001b[1;31m---------------------------------------------------------------------------\u001b[0m",
      "\u001b[1;31mTypeError\u001b[0m                                 Traceback (most recent call last)",
      "\u001b[1;32m~\\AppData\\Local\\Temp/ipykernel_1364/46568740.py\u001b[0m in \u001b[0;36m<module>\u001b[1;34m\u001b[0m\n\u001b[0;32m     22\u001b[0m \u001b[1;31m# we will take l/2 and (l/2)-1\u001b[0m\u001b[1;33m\u001b[0m\u001b[1;33m\u001b[0m\u001b[0m\n\u001b[0;32m     23\u001b[0m \u001b[1;32mif\u001b[0m \u001b[0ml\u001b[0m\u001b[1;33m%\u001b[0m\u001b[1;36m2\u001b[0m\u001b[1;33m!=\u001b[0m\u001b[1;36m0\u001b[0m\u001b[1;33m:\u001b[0m\u001b[1;33m\u001b[0m\u001b[1;33m\u001b[0m\u001b[0m\n\u001b[1;32m---> 24\u001b[1;33m     \u001b[0mprint\u001b[0m\u001b[1;33m(\u001b[0m\u001b[0ma1\u001b[0m\u001b[1;33m[\u001b[0m\u001b[0ml\u001b[0m\u001b[1;33m/\u001b[0m\u001b[1;36m2\u001b[0m\u001b[1;33m]\u001b[0m\u001b[1;33m)\u001b[0m\u001b[1;33m\u001b[0m\u001b[1;33m\u001b[0m\u001b[0m\n\u001b[0m\u001b[0;32m     25\u001b[0m \u001b[1;32melse\u001b[0m\u001b[1;33m:\u001b[0m\u001b[1;33m\u001b[0m\u001b[1;33m\u001b[0m\u001b[0m\n\u001b[0;32m     26\u001b[0m     \u001b[0my\u001b[0m \u001b[1;33m=\u001b[0m \u001b[1;33m(\u001b[0m\u001b[0ma1\u001b[0m\u001b[1;33m[\u001b[0m\u001b[1;33m(\u001b[0m\u001b[0ml\u001b[0m\u001b[1;33m/\u001b[0m\u001b[1;36m2\u001b[0m\u001b[1;33m)\u001b[0m\u001b[1;33m]\u001b[0m \u001b[1;33m+\u001b[0m \u001b[0ma1\u001b[0m\u001b[1;33m[\u001b[0m\u001b[1;33m(\u001b[0m\u001b[0ml\u001b[0m\u001b[1;33m/\u001b[0m\u001b[1;36m2\u001b[0m\u001b[1;33m)\u001b[0m\u001b[1;33m-\u001b[0m\u001b[1;36m1\u001b[0m\u001b[1;33m]\u001b[0m\u001b[1;33m)\u001b[0m\u001b[1;33m/\u001b[0m\u001b[1;36m2\u001b[0m\u001b[1;33m\u001b[0m\u001b[1;33m\u001b[0m\u001b[0m\n",
      "\u001b[1;31mTypeError\u001b[0m: list indices must be integers or slices, not float"
     ]
    }
   ],
   "source": [
    "#finding median of two sorted lists.\n",
    "\n",
    "a1 = [1,2]\n",
    "a2 = [4,3]\n",
    "\n",
    "#sort the \n",
    "#add them [1,2,3,4]\n",
    "\n",
    "#median is the middle element of the list\n",
    "#1,2,3  median = 2\n",
    "# 1,2,3,4  median = (2+3)/2 (1st index+2nd index /2)\n",
    "\n",
    "#for odd number of elements lst[len(list)/2]\n",
    "\n",
    "a1.extend(a2)\n",
    "a1.sort()\n",
    "\n",
    "l = len(a1)\n",
    "\n",
    "\n",
    "\n",
    "# we will take l/2 and (l/2)-1\n",
    "if l%2!=0:\n",
    "    print(a1[l/2])\n",
    "else:\n",
    "    y = (a1[(l/2)] + a1[(l/2)-1])/2\n",
    "    print(y)"
   ]
  },
  {
   "cell_type": "code",
   "execution_count": 54,
   "id": "921551a9",
   "metadata": {
    "scrolled": true
   },
   "outputs": [
    {
     "data": {
      "text/plain": [
       "3.5"
      ]
     },
     "execution_count": 54,
     "metadata": {},
     "output_type": "execute_result"
    }
   ],
   "source": [
    "7/2"
   ]
  },
  {
   "cell_type": "code",
   "execution_count": 55,
   "id": "ab4f6358",
   "metadata": {
    "scrolled": false
   },
   "outputs": [
    {
     "ename": "TypeError",
     "evalue": "list indices must be integers or slices, not float",
     "output_type": "error",
     "traceback": [
      "\u001b[1;31m---------------------------------------------------------------------------\u001b[0m",
      "\u001b[1;31mTypeError\u001b[0m                                 Traceback (most recent call last)",
      "\u001b[1;32m~\\AppData\\Local\\Temp/ipykernel_1364/3254830738.py\u001b[0m in \u001b[0;36m<module>\u001b[1;34m\u001b[0m\n\u001b[1;32m----> 1\u001b[1;33m \u001b[0ma1\u001b[0m\u001b[1;33m[\u001b[0m\u001b[1;36m3.5\u001b[0m\u001b[1;33m]\u001b[0m\u001b[1;33m\u001b[0m\u001b[1;33m\u001b[0m\u001b[0m\n\u001b[0m",
      "\u001b[1;31mTypeError\u001b[0m: list indices must be integers or slices, not float"
     ]
    }
   ],
   "source": [
    "a1[3.5]"
   ]
  },
  {
   "cell_type": "code",
   "execution_count": 56,
   "id": "e283f73a",
   "metadata": {
    "scrolled": true
   },
   "outputs": [
    {
     "data": {
      "text/plain": [
       "3.0"
      ]
     },
     "execution_count": 56,
     "metadata": {},
     "output_type": "execute_result"
    }
   ],
   "source": [
    "6/2"
   ]
  },
  {
   "cell_type": "code",
   "execution_count": 57,
   "id": "1118b047",
   "metadata": {
    "scrolled": true
   },
   "outputs": [
    {
     "data": {
      "text/plain": [
       "3"
      ]
     },
     "execution_count": 57,
     "metadata": {},
     "output_type": "execute_result"
    }
   ],
   "source": [
    "6//2"
   ]
  },
  {
   "cell_type": "code",
   "execution_count": 63,
   "id": "b633eb3f",
   "metadata": {
    "scrolled": true
   },
   "outputs": [
    {
     "name": "stdout",
     "output_type": "stream",
     "text": [
      "2\n"
     ]
    }
   ],
   "source": [
    "#extension to the above probelem\n",
    "if l%2!=0:\n",
    "    print(a1[l//2])\n",
    "else:\n",
    "    print((a1[(l//2)] + a1[(l//2)-1])/2)"
   ]
  },
  {
   "cell_type": "code",
   "execution_count": 62,
   "id": "609834ec",
   "metadata": {
    "scrolled": false
   },
   "outputs": [
    {
     "data": {
      "text/plain": [
       "3"
      ]
     },
     "execution_count": 62,
     "metadata": {},
     "output_type": "execute_result"
    }
   ],
   "source": [
    "#typecasting\n",
    "\n",
    "int(7/2)"
   ]
  },
  {
   "cell_type": "code",
   "execution_count": null,
   "id": "d0f21914",
   "metadata": {},
   "outputs": [],
   "source": [
    "#list = [2,3,4]\n",
    "#len of this list is odd\n",
    "median = 3\n",
    "#for odd\n",
    "formula is the middle element = l//2 or int(l/2)\n",
    "\n",
    "\n",
    "#list2= [4,5,6,8,9,7]\n",
    "#len of this list is even\n",
    "median = (8+6)/2\n",
    "formula is there will be two middle element = ((l//2)+(l//2)-1)/2"
   ]
  }
 ],
 "metadata": {
  "kernelspec": {
   "display_name": "Python 3 (ipykernel)",
   "language": "python",
   "name": "python3"
  },
  "language_info": {
   "codemirror_mode": {
    "name": "ipython",
    "version": 3
   },
   "file_extension": ".py",
   "mimetype": "text/x-python",
   "name": "python",
   "nbconvert_exporter": "python",
   "pygments_lexer": "ipython3",
   "version": "3.9.7"
  }
 },
 "nbformat": 4,
 "nbformat_minor": 5
}
